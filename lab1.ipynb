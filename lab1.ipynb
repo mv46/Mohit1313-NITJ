{
 "cells": [
  {
   "cell_type": "code",
   "execution_count": 1,
   "id": "2435b23f",
   "metadata": {},
   "outputs": [
    {
     "name": "stdout",
     "output_type": "stream",
     "text": [
      "array('i', [7, 14, 21, 28, 35, 42, 49, 56, 63, 70])\n",
      "finding..\n",
      "finding..\n",
      "finding..\n",
      "finding..\n",
      "element is present in arr1 at indx 4\n"
     ]
    }
   ],
   "source": [
    "from array import *\n",
    "\n",
    "arr1=array('i',[0]*10)\n",
    "\n",
    "for i in range(10):\n",
    "    arr1[i]=(i+1)*7\n",
    "    i+=1\n",
    "    \n",
    "print(arr1)    \n",
    "\n",
    "def check(arr):\n",
    "    for i in range(len(arr)):\n",
    "        if(35==arr[i]):\n",
    "            print(\"element is present in arr1 at indx\",i)\n",
    "            break\n",
    "        else:\n",
    "            print(\"finding..\")\n",
    "            \n",
    "check(arr1)  "
   ]
  },
  {
   "cell_type": "code",
   "execution_count": null,
   "id": "b93dd9c3",
   "metadata": {},
   "outputs": [],
   "source": []
  }
 ],
 "metadata": {
  "kernelspec": {
   "display_name": "Python 3 (ipykernel)",
   "language": "python",
   "name": "python3"
  },
  "language_info": {
   "codemirror_mode": {
    "name": "ipython",
    "version": 3
   },
   "file_extension": ".py",
   "mimetype": "text/x-python",
   "name": "python",
   "nbconvert_exporter": "python",
   "pygments_lexer": "ipython3",
   "version": "3.9.7"
  }
 },
 "nbformat": 4,
 "nbformat_minor": 5
}
