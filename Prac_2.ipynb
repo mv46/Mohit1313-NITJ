{
 "cells": [
  {
   "cell_type": "code",
   "execution_count": 2,
   "id": "894cee04",
   "metadata": {},
   "outputs": [
    {
     "name": "stdout",
     "output_type": "stream",
     "text": [
      "Enter the no of element in 1st array3\n",
      "Enter the no of element in 2st array3\n",
      "enter the element\n",
      "1\n",
      "2\n",
      "3\n",
      "enter the element\n",
      "1\n",
      "2\n",
      "3\n",
      "array('i', [1, 2, 3])\n",
      "array('i', [1, 2, 3])\n",
      "[1, 4, 9]\n"
     ]
    }
   ],
   "source": [
    "from array import * \n",
    "a=int(input(\"Enter the no of element in 1st array\"))\n",
    "b=int(input(\"Enter the no of element in 2st array\"))\n",
    "def getEle(n):\n",
    "    arr=array('i',[0]*n)\n",
    "    print(\"enter the element\")\n",
    "    for i in range(n):\n",
    "        arr[i]=int(input(\"\"))\n",
    "    return arr\n",
    "def arrMulti(arr1,arr2):\n",
    "    l=len(arr1)\n",
    "    m=len(arr2)\n",
    "    temp=1\n",
    "    if l!=m :\n",
    "         raise ValueError(\"Arrays must have the same length for element-wise multiplication.\")\n",
    "            \n",
    "    res=[]\n",
    "    for i in range(l):\n",
    "        temp=arr1[i]*arr2[i]\n",
    "        res.insert(i,temp)\n",
    "    return res    \n",
    "    \n",
    "\n",
    "arr1=getEle(a)\n",
    "arr2=getEle(b)\n",
    "print(arr1)\n",
    "print(arr2)\n",
    "result=arrMulti(arr1,arr2)\n",
    "print(result)"
   ]
  },
  {
   "cell_type": "code",
   "execution_count": null,
   "id": "ccb45f4c",
   "metadata": {},
   "outputs": [],
   "source": []
  }
 ],
 "metadata": {
  "kernelspec": {
   "display_name": "Python 3 (ipykernel)",
   "language": "python",
   "name": "python3"
  },
  "language_info": {
   "codemirror_mode": {
    "name": "ipython",
    "version": 3
   },
   "file_extension": ".py",
   "mimetype": "text/x-python",
   "name": "python",
   "nbconvert_exporter": "python",
   "pygments_lexer": "ipython3",
   "version": "3.9.7"
  }
 },
 "nbformat": 4,
 "nbformat_minor": 5
}
