{
 "cells": [
  {
   "cell_type": "code",
   "execution_count": 1,
   "id": "5b924c46",
   "metadata": {},
   "outputs": [
    {
     "name": "stdout",
     "output_type": "stream",
     "text": [
      "Sorted array: [11, 12, 22, 25, 34, 64, 90]\n"
     ]
    }
   ],
   "source": [
    "def selection_sort(arr):\n",
    "    # Loop through each element in the array\n",
    "    for i in range(len(arr)):\n",
    "        # Find the minimum element in the unsorted portion\n",
    "        min_index = i\n",
    "        for j in range(i + 1, len(arr)):\n",
    "            if arr[j] < arr[min_index]:\n",
    "                min_index = j\n",
    "        # Swap the found minimum element with the first element of the unsorted portion\n",
    "        arr[i], arr[min_index] = arr[min_index], arr[i]\n",
    "    return arr\n",
    "\n",
    "# Example usage\n",
    "numbers = [64, 34, 25, 12, 22, 11, 90]\n",
    "sorted_numbers = selection_sort(numbers)\n",
    "print(\"Sorted array:\", sorted_numbers)\n"
   ]
  },
  {
   "cell_type": "code",
   "execution_count": null,
   "id": "a3a6de8a",
   "metadata": {},
   "outputs": [],
   "source": [
    "def bubble_sort(arr):\n",
    "    n = len(arr)\n",
    "    # Loop through each element of the array\n",
    "    for i in range(n):\n",
    "        # Track if a swap was made in this pass\n",
    "        swapped = False\n",
    "        # Inner loop to compare adjacent elements\n",
    "        for j in range(0, n - i - 1):\n",
    "            if arr[j] > arr[j + 1]:\n",
    "                # Swap if the element is greater than the next element\n",
    "                arr[j], arr[j + 1] = arr[j + 1], arr[j]\n",
    "                swapped = True\n",
    "        # If no swaps were made, the array is sorted\n",
    "        if not swapped:\n",
    "            break\n",
    "    return arr\n",
    "\n",
    "# Example usage\n",
    "numbers = [64, 34, 25, 12, 22, 11, 90]\n",
    "sorted_numbers = bubble_sort(numbers)\n",
    "print(\"Sorted array:\", sorted_numbers)\n"
   ]
  },
  {
   "cell_type": "code",
   "execution_count": 2,
   "id": "3b3c22ca",
   "metadata": {},
   "outputs": [
    {
     "name": "stdout",
     "output_type": "stream",
     "text": [
      "Element found at index: 2\n"
     ]
    }
   ],
   "source": [
    "def linear_search(arr, target):\n",
    "    for i in range(len(arr)):\n",
    "        if arr[i] == target:\n",
    "            return i\n",
    "    return -1\n",
    "\n",
    "numbers = [10, 20, 30, 40, 50]\n",
    "target = 30\n",
    "result = linear_search(numbers, target)\n",
    "print(\"Element found at index:\", result)\n"
   ]
  },
  {
   "cell_type": "code",
   "execution_count": 3,
   "id": "f3da2cb2",
   "metadata": {},
   "outputs": [
    {
     "name": "stdout",
     "output_type": "stream",
     "text": [
      "Element found at index: 3\n"
     ]
    }
   ],
   "source": [
    "def binary_search(arr, target):\n",
    "    left, right = 0, len(arr) - 1\n",
    "    while left <= right:\n",
    "        mid = (left + right) // 2\n",
    "        if arr[mid] == target:\n",
    "            return mid\n",
    "        elif arr[mid] < target:\n",
    "            left = mid + 1\n",
    "        else:\n",
    "            right = mid - 1\n",
    "    return -1\n",
    "\n",
    "numbers = [10, 20, 30, 40, 50, 60, 70]\n",
    "target = 40\n",
    "result = binary_search(numbers, target)\n",
    "\n",
    "if result != -1:\n",
    "    print(f\"Element found at index: {result}\")\n",
    "else:\n",
    "    print(\"Element not found in the array\")\n"
   ]
  },
  {
   "cell_type": "code",
   "execution_count": null,
   "id": "e16698ad",
   "metadata": {},
   "outputs": [],
   "source": []
  }
 ],
 "metadata": {
  "kernelspec": {
   "display_name": "Python 3 (ipykernel)",
   "language": "python",
   "name": "python3"
  },
  "language_info": {
   "codemirror_mode": {
    "name": "ipython",
    "version": 3
   },
   "file_extension": ".py",
   "mimetype": "text/x-python",
   "name": "python",
   "nbconvert_exporter": "python",
   "pygments_lexer": "ipython3",
   "version": "3.9.7"
  }
 },
 "nbformat": 4,
 "nbformat_minor": 5
}
